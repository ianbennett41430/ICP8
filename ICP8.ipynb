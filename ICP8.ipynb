{
  "nbformat": 4,
  "nbformat_minor": 0,
  "metadata": {
    "colab": {
      "provenance": [],
      "authorship_tag": "ABX9TyO/a4ewK5BYLX9h/FvbY0iH",
      "include_colab_link": true
    },
    "kernelspec": {
      "name": "python3",
      "display_name": "Python 3"
    },
    "language_info": {
      "name": "python"
    }
  },
  "cells": [
    {
      "cell_type": "markdown",
      "metadata": {
        "id": "view-in-github",
        "colab_type": "text"
      },
      "source": [
        "<a href=\"https://colab.research.google.com/github/ianbennett41430/ICP8/blob/main/ICP8.ipynb\" target=\"_parent\"><img src=\"https://colab.research.google.com/assets/colab-badge.svg\" alt=\"Open In Colab\"/></a>"
      ]
    },
    {
      "cell_type": "markdown",
      "source": [
        "Denoising AutoEncoder"
      ],
      "metadata": {
        "id": "AwGGPgxENKqb"
      }
    },
    {
      "cell_type": "code",
      "execution_count": 43,
      "metadata": {
        "colab": {
          "base_uri": "https://localhost:8080/"
        },
        "id": "-1tbOeplMtFL",
        "outputId": "0ad09b48-ea3a-45c5-aa5c-f9008e0681e6"
      },
      "outputs": [
        {
          "output_type": "stream",
          "name": "stdout",
          "text": [
            "313/313 [==============================] - 1s 2ms/step - loss: 0.0000e+00\n",
            "313/313 [==============================] - 1s 2ms/step\n",
            "The prediction is:\n",
            "[[0.48446137 0.50017494 0.5042935  ... 0.5155505  0.49894118 0.4896511 ]\n",
            " [0.4501582  0.5145111  0.52502537 ... 0.54411155 0.52123386 0.49562028]\n",
            " [0.45589992 0.48015675 0.52372056 ... 0.55189437 0.5517728  0.49220905]\n",
            " ...\n",
            " [0.48499152 0.47599375 0.5161267  ... 0.5195368  0.5055676  0.49412322]\n",
            " [0.42976758 0.46046498 0.52489054 ... 0.5713521  0.53670233 0.47376367]\n",
            " [0.48551646 0.511043   0.50924903 ... 0.51844114 0.5149467  0.48381016]]\n",
            "Epoch 1/10\n",
            "235/235 [==============================] - 3s 10ms/step - loss: 0.6972 - val_loss: 0.6970\n",
            "Epoch 2/10\n",
            "235/235 [==============================] - 2s 9ms/step - loss: 0.6969 - val_loss: 0.6968\n",
            "Epoch 3/10\n",
            "235/235 [==============================] - 2s 10ms/step - loss: 0.6967 - val_loss: 0.6966\n",
            "Epoch 4/10\n",
            "235/235 [==============================] - 3s 13ms/step - loss: 0.6965 - val_loss: 0.6963\n",
            "Epoch 5/10\n",
            "235/235 [==============================] - 2s 9ms/step - loss: 0.6962 - val_loss: 0.6961\n",
            "Epoch 6/10\n",
            "235/235 [==============================] - 2s 9ms/step - loss: 0.6960 - val_loss: 0.6959\n",
            "Epoch 7/10\n",
            "235/235 [==============================] - 2s 10ms/step - loss: 0.6958 - val_loss: 0.6957\n",
            "Epoch 8/10\n",
            "235/235 [==============================] - 2s 10ms/step - loss: 0.6956 - val_loss: 0.6955\n",
            "Epoch 9/10\n",
            "235/235 [==============================] - 3s 13ms/step - loss: 0.6954 - val_loss: 0.6953\n",
            "Epoch 10/10\n",
            "235/235 [==============================] - 2s 10ms/step - loss: 0.6952 - val_loss: 0.6951\n"
          ]
        },
        {
          "output_type": "execute_result",
          "data": {
            "text/plain": [
              "<keras.src.callbacks.History at 0x7b6899d544c0>"
            ]
          },
          "metadata": {},
          "execution_count": 43
        }
      ],
      "source": [
        "from keras.layers import Input, Dense\n",
        "from keras.models import Model\n",
        "\n",
        "# this is the size of our encoded representations\n",
        "encoding_dim = 32  # 32 floats -> compression of factor 24.5, assuming the input is 784 floats\n",
        "\n",
        "# this is our input placeholder\n",
        "input_img = Input(shape=(784,))\n",
        "# \"encoded\" is the encoded representation of the input\n",
        "encoded = Dense(encoding_dim, activation='relu')(input_img)\n",
        "# \"decoded\" is the lossy reconstruction of the input\n",
        "decoded = Dense(784, activation='sigmoid')(encoded)\n",
        "# this model maps an input to its reconstruction\n",
        "autoencoder = Model(input_img, decoded)\n",
        "# this model maps an input to its encoded representation\n",
        "autoencoder.compile(optimizer='adadelta', loss='binary_crossentropy')\n",
        "from keras.datasets import fashion_mnist\n",
        "import numpy as np\n",
        "(x_train, _), (x_test, _) = fashion_mnist.load_data()\n",
        "x_train = x_train.astype('float32') / 255.\n",
        "x_test = x_test.astype('float32') / 255.\n",
        "x_train = x_train.reshape((len(x_train), np.prod(x_train.shape[1:])))\n",
        "x_test = x_test.reshape((len(x_test), np.prod(x_test.shape[1:])))\n",
        "#this shows the prediction for the model results\n",
        "autoencoder.evaluate(x_test)\n",
        "pred = autoencoder.predict(x_test)\n",
        "print(\"The prediction is:\")\n",
        "print(pred)\n",
        "#introducing noise\n",
        "noise_factor = 0.5\n",
        "x_train_noisy = x_train + noise_factor * np.random.normal(loc=0.0, scale=1.0, size=x_train.shape)\n",
        "x_test_noisy = x_test + noise_factor * np.random.normal(loc=0.0, scale=1.0, size=x_test.shape)\n",
        "\n",
        "autoencoder.fit(x_train_noisy, x_train,\n",
        "                epochs=10,\n",
        "                batch_size=256,\n",
        "                shuffle=True,\n",
        "                validation_data=(x_test_noisy, x_test_noisy))\n"
      ]
    },
    {
      "cell_type": "markdown",
      "source": [
        "AutoEncoder"
      ],
      "metadata": {
        "id": "gXze16DqNIEq"
      }
    },
    {
      "cell_type": "code",
      "source": [
        "from keras.layers import Input, Dense\n",
        "from keras.models import Model\n",
        "import tensorflow as tf\n",
        "import matplotlib.pyplot as plt\n",
        "\n",
        "# this is the size of our encoded representations\n",
        "encoding_dim = 32  # 32 floats -> compression of factor 24.5, assuming the input is 784 floats\n",
        "\n",
        "# this is our input placeholder\n",
        "input_img = Input(shape=(784,))\n",
        "# \"encoded\" is the encoded representation of the input\n",
        "encoded = Dense(encoding_dim, activation='relu')(input_img)\n",
        "# \"decoded\" is the lossy reconstruction of the input\n",
        "decoded = Dense(784, activation='sigmoid')(encoded)\n",
        "encoded = Dense(256, activation='relu')(encoded)\n",
        "# this model maps an input to its reconstruction\n",
        "autoencoder = Model(input_img, decoded)\n",
        "# this model maps an input to its encoded representation\n",
        "autoencoder.compile(optimizer='adadelta', loss='binary_crossentropy')\n",
        "#this shows the prediction for the model results\n",
        "autoencoder.evaluate(x_test)\n",
        "pred = autoencoder.predict(x_test)\n",
        "print(\"The prediction is:\")\n",
        "print(pred)\n",
        "\n",
        "from keras.datasets import mnist, fashion_mnist\n",
        "import numpy as np\n",
        "(x_train, y_train), (x_test, y_test) = fashion_mnist.load_data()\n",
        "x_train = x_train.astype('float32') / 255.\n",
        "x_test = x_test.astype('float32') / 255.\n",
        "x_train = x_train.reshape((len(x_train), np.prod(x_train.shape[1:])))\n",
        "x_test = x_test.reshape((len(x_test), np.prod(x_test.shape[1:])))\n",
        "\n",
        "history = autoencoder.fit(x_train, x_train,\n",
        "                epochs=5,\n",
        "                batch_size=256,\n",
        "                shuffle=True,\n",
        "                validation_data=(x_test, x_test))\n",
        "# plots the performance of the model\n",
        "plt.plot(history.history['loss'])\n",
        "plt.plot(history.history['val_loss'])\n",
        "plt.ylabel('loss')\n",
        "plt.xlabel('epoch')\n",
        "plt.legend(['train', 'val'], loc='upper right')\n",
        "plt.show()\n",
        "\n"
      ],
      "metadata": {
        "colab": {
          "base_uri": "https://localhost:8080/",
          "height": 796
        },
        "id": "cdvVtg1oNC7N",
        "outputId": "db936d77-34c5-4c5f-e844-7be4c9ae8ab2"
      },
      "execution_count": 42,
      "outputs": [
        {
          "output_type": "stream",
          "name": "stdout",
          "text": [
            "313/313 [==============================] - 1s 2ms/step - loss: 0.0000e+00\n",
            "313/313 [==============================] - 1s 2ms/step\n",
            "The prediction is:\n",
            "[[0.4664748  0.47264978 0.47465384 ... 0.4962867  0.4923614  0.50574386]\n",
            " [0.4354437  0.44747818 0.51305187 ... 0.5228154  0.4832473  0.44466886]\n",
            " [0.50439656 0.47814077 0.4758206  ... 0.5215623  0.5148557  0.468885  ]\n",
            " ...\n",
            " [0.42916727 0.4550179  0.52465236 ... 0.5742365  0.53702337 0.46630934]\n",
            " [0.4530804  0.4692596  0.48122698 ... 0.54230887 0.5349748  0.47746035]\n",
            " [0.46169615 0.4738193  0.4944614  ... 0.5108617  0.5127601  0.50547665]]\n",
            "Epoch 1/5\n",
            "235/235 [==============================] - 4s 12ms/step - loss: 0.6943 - val_loss: 0.6942\n",
            "Epoch 2/5\n",
            "235/235 [==============================] - 2s 10ms/step - loss: 0.6941 - val_loss: 0.6940\n",
            "Epoch 3/5\n",
            "235/235 [==============================] - 2s 10ms/step - loss: 0.6939 - val_loss: 0.6938\n",
            "Epoch 4/5\n",
            "235/235 [==============================] - 2s 9ms/step - loss: 0.6937 - val_loss: 0.6936\n",
            "Epoch 5/5\n",
            "235/235 [==============================] - 2s 9ms/step - loss: 0.6935 - val_loss: 0.6934\n"
          ]
        },
        {
          "output_type": "display_data",
          "data": {
            "text/plain": [
              "<Figure size 640x480 with 1 Axes>"
            ],
            "image/png": "[encoded data removed]"
          },
          "metadata": {}
        }
      ]
    }
  ]
}